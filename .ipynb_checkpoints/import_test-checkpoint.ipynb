{
 "cells": [
  {
   "cell_type": "code",
   "execution_count": 1,
   "metadata": {},
   "outputs": [],
   "source": [
    "# -*- coding: utf-8 -*-\n",
    "import pyaudio\n",
    "import pandas as pd\n",
    "import sys\n",
    "import time\n",
    "import wave\n",
    "import numpy as np\n",
    "import matplotlib.pyplot as plt\n",
    "import datetime\n",
    "%matplotlib inline\n",
    "import ffmpeg\n",
    "import glob\n",
    "from pydub import AudioSegment\n",
    "from pydub.silence import split_on_silence\n",
    "import youtube_dl\n",
    "from youtube_dl.utils import DateRange\n",
    "import shutil\n",
    "from distutils.dir_util import copy_tree\n",
    "import os\n",
    "import re\n",
    "import datetime"
   ]
  },
  {
   "cell_type": "code",
   "execution_count": 5,
   "metadata": {},
   "outputs": [
    {
     "data": {
      "text/plain": [
       "'/Users/michitaro-kuida/myproject/shazam/audfprint/cm_accuracy_test/tag_newad'"
      ]
     },
     "execution_count": 5,
     "metadata": {},
     "output_type": "execute_result"
    }
   ],
   "source": [
    "'/Users/michitaro-kuida/myproject/shazam/audfprint/cm_accuracy_test/tag_newad'"
   ]
  },
  {
   "cell_type": "code",
   "execution_count": 6,
   "metadata": {},
   "outputs": [
    {
     "ename": "SyntaxError",
     "evalue": "invalid syntax (<ipython-input-6-1fc62f206a88>, line 1)",
     "output_type": "error",
     "traceback": [
      "\u001b[0;36m  File \u001b[0;32m\"<ipython-input-6-1fc62f206a88>\"\u001b[0;36m, line \u001b[0;32m1\u001b[0m\n\u001b[0;31m    make database\u001b[0m\n\u001b[0m                ^\u001b[0m\n\u001b[0;31mSyntaxError\u001b[0m\u001b[0;31m:\u001b[0m invalid syntax\n"
     ]
    }
   ],
   "source": [
    "make database "
   ]
  },
  {
   "cell_type": "code",
   "execution_count": 7,
   "metadata": {},
   "outputs": [
    {
     "data": {
      "text/plain": [
       "'/Users/michitaro-kuida/myproject/shazam/audfprint_edit'"
      ]
     },
     "execution_count": 7,
     "metadata": {},
     "output_type": "execute_result"
    }
   ],
   "source": [
    "pwd"
   ]
  },
  {
   "cell_type": "code",
   "execution_count": 2,
   "metadata": {},
   "outputs": [
    {
     "name": "stdout",
     "output_type": "stream",
     "text": [
      "ls: tests/data/query.mp3: No such file or directory\n"
     ]
    }
   ],
   "source": [
    "ls tests/data/query.mp3"
   ]
  },
  {
   "cell_type": "code",
   "execution_count": 9,
   "metadata": {},
   "outputs": [
    {
     "name": "stdout",
     "output_type": "stream",
     "text": [
      "Tue Jan 21 14:24:30 2020 ingesting #0: tests/data/Nine_Lives/12-Attitude_Adjustment.mp3 ...\n",
      "Tue Jan 21 14:24:30 2020 ingesting #1: tests/data/Nine_Lives/04-Taste_Of_India.mp3 ...\n",
      "Tue Jan 21 14:24:30 2020 ingesting #2: tests/data/Nine_Lives/03-Hole_In_My_Soul.mp3 ...\n",
      "Tue Jan 21 14:24:30 2020 ingesting #3: tests/data/Nine_Lives/07-Ain_t_That_A_Bitch.mp3 ...\n",
      "Tue Jan 21 14:24:30 2020 ingesting #4: tests/data/Nine_Lives/01-Nine_Lives.mp3 ...\n",
      "Tue Jan 21 14:24:31 2020 ingesting #5: tests/data/Nine_Lives/13-Fallen_Angels.mp3 ...\n",
      "Tue Jan 21 14:24:31 2020 ingesting #6: tests/data/Nine_Lives/11-Pink.mp3 ...\n",
      "Tue Jan 21 14:24:31 2020 ingesting #7: tests/data/Nine_Lives/08-The_Farm.mp3 ...\n",
      "Tue Jan 21 14:24:31 2020 ingesting #8: tests/data/Nine_Lives/06-Something_s_Gotta_Give.mp3 ...\n",
      "Tue Jan 21 14:24:31 2020 ingesting #9: tests/data/Nine_Lives/02-Falling_In_Love.mp3 ...\n",
      "Tue Jan 21 14:24:31 2020 ingesting #10: tests/data/Nine_Lives/05-Full_Circle.mp3 ...\n",
      "Tue Jan 21 14:24:31 2020 ingesting #11: tests/data/Nine_Lives/09-Crash.mp3 ...\n",
      "Tue Jan 21 14:24:31 2020 ingesting #12: tests/data/Nine_Lives/10-Kiss_Your_Past_Good-bye.mp3 ...\n",
      "Added 3081 hashes (23.7 hashes/sec)\n",
      "Processed 13 files (130.0 s total dur) in 6.7 s sec = 0.052 x RT\n",
      "Saved fprints for 13 files ( 3081 hashes) to test.pklz (0.00% dropped)\n"
     ]
    }
   ],
   "source": [
    "%run -i audfprint.py new --dbase test.pklz tests/data/Nine_Lives/*"
   ]
  },
  {
   "cell_type": "code",
   "execution_count": 10,
   "metadata": {},
   "outputs": [
    {
     "name": "stdout",
     "output_type": "stream",
     "text": [
      "Tue Jan 21 14:24:34 2020 Reading hash table test.pklz\n",
      "Read fprints for 13 files ( 3081 hashes) from test.pklz (0.00% dropped)\n",
      "Tue Jan 21 14:24:36 2020 Analyzed #0 tests/data/query.mp3 of 5.619 s to 253 hashes\n",
      "Matched tests/data/query.mp3 5.6 sec 253 raw hashes as tests/data/Nine_Lives/05-Full_Circle.mp3 at    0.0 s with    11 of    11 common hashes at rank  0\n",
      "Processed 1 files (5.8 s total dur) in 3.2 s sec = 0.544 x RT\n"
     ]
    }
   ],
   "source": [
    "%run -i audfprint.py match --dbase test.pklz tests/data/query.mp3"
   ]
  },
  {
   "cell_type": "code",
   "execution_count": 5,
   "metadata": {},
   "outputs": [
    {
     "name": "stdout",
     "output_type": "stream",
     "text": [
      "/Users/michitaro-kuida/myproject/shazam/line_bot_cm/audfprint_tmp\n"
     ]
    }
   ],
   "source": [
    "cd audfprint_tmp/"
   ]
  },
  {
   "cell_type": "code",
   "execution_count": 33,
   "metadata": {},
   "outputs": [],
   "source": [
    "outputfile = 'tests/data/tmp.txt'\n",
    "l = ['1','match','--dbase','test.pklz','tests/data/query.mp3','-o',outputfile]"
   ]
  },
  {
   "cell_type": "code",
   "execution_count": 13,
   "metadata": {},
   "outputs": [
    {
     "name": "stdout",
     "output_type": "stream",
     "text": [
      "Read fprints for 13 files ( 3081 hashes) from test.pklz (0.00% dropped)\n",
      "Thu Jan 23 12:59:07 2020 Analyzed #0 tests/data/query.mp3 of 5.619 s to 253 hashes\n",
      "Processed 1 files (5.8 s total dur) in 3.1 s sec = 0.526 x RT\n"
     ]
    }
   ],
   "source": [
    "import audfprint\n",
    "\n",
    "audfprint.main(l)\n"
   ]
  },
  {
   "cell_type": "code",
   "execution_count": 37,
   "metadata": {},
   "outputs": [],
   "source": [
    "\n",
    "def s_match(path):\n",
    "    l = ['1','match','--dbase','test.pklz','tests/data/query.mp3','-o',outputfile]\n",
    "    result = audfprint.main(l)\n",
    "    with open(outputfile) as f:\n",
    "        s=f.read()\n",
    "    \n",
    "    return s"
   ]
  },
  {
   "cell_type": "code",
   "execution_count": 38,
   "metadata": {},
   "outputs": [
    {
     "name": "stdout",
     "output_type": "stream",
     "text": [
      "Read fprints for 13 files ( 3081 hashes) from test.pklz (0.00% dropped)\n",
      "Thu Jan 23 14:18:34 2020 Analyzed #0 tests/data/query.mp3 of 5.619 s to 253 hashes\n",
      "Processed 1 files (5.8 s total dur) in 3.1 s sec = 0.532 x RT\n"
     ]
    },
    {
     "data": {
      "text/plain": [
       "'Thu Jan 23 14:18:32 2020 Reading hash table test.pklz\\nMatched tests/data/query.mp3 5.6 sec 253 raw hashes as tests/data/Nine_Lives/05-Full_Circle.mp3 at    0.0 s with    11 of    11 common hashes at rank  0\\n'"
      ]
     },
     "execution_count": 38,
     "metadata": {},
     "output_type": "execute_result"
    }
   ],
   "source": [
    "s_match('a')"
   ]
  },
  {
   "cell_type": "code",
   "execution_count": null,
   "metadata": {},
   "outputs": [],
   "source": []
  },
  {
   "cell_type": "code",
   "execution_count": 42,
   "metadata": {},
   "outputs": [
    {
     "name": "stdout",
     "output_type": "stream",
     "text": [
      "../../audfprint/cm_accuracy_test/new_ad/master_jan2.csv\n"
     ]
    }
   ],
   "source": [
    "ls ../../audfprint/cm_accuracy_test/new_ad/master_jan2.csv"
   ]
  },
  {
   "cell_type": "code",
   "execution_count": 44,
   "metadata": {},
   "outputs": [],
   "source": [
    "df = pd.read_csv('../../audfprint/cm_accuracy_test/new_ad/master_jan2.csv')"
   ]
  },
  {
   "cell_type": "code",
   "execution_count": 47,
   "metadata": {},
   "outputs": [
    {
     "data": {
      "text/plain": [
       "uploader\n",
       "Paravi（パラビ）                   141\n",
       "英会話イーオン公式                      47\n",
       "OpenHouseInc                   29\n",
       "IndeedJapan                    20\n",
       "スクウェア・エニックス                    19\n",
       "サントリー公式チャンネル （SUNTORY）         15\n",
       "876TV                          13\n",
       "Panasonic Japan（パナソニック公式）      11\n",
       "CrowdWorks クライアント向け            10\n",
       "LIFULL HOME'S                   9\n",
       "星ドラ公式チャンネル                      9\n",
       "Glico Japan江崎グリコ 公式             9\n",
       "太田胃散 公式チャンネル                    9\n",
       "コカ・コーラ                          8\n",
       "Hotels.com APAC                 8\n",
       "JSW 日本製鋼所公式                     7\n",
       "駅前留学NOVA 公式チャンネル                7\n",
       "資生堂 Shiseido Co., Ltd.          7\n",
       "マクドナルド公式（McDonald’s）            7\n",
       "Kanebo Cosmetics【official】      6\n",
       "世界最速インターネット NURO                6\n",
       "DaihatsuOfficial                5\n",
       "familymart                      5\n",
       "バンドルカード                         5\n",
       "Volvo Car Japan                 5\n",
       "ENEOS TV                        4\n",
       "taishomovie                     4\n",
       "ZurichJapan                     4\n",
       "SUUMO / スーモ                     4\n",
       "三井住友銀行（SMBC）公式チャンネル             4\n",
       "                             ... \n",
       "KOSECOSMEPORT                   1\n",
       "大東建託公式チャンネル                     1\n",
       "大阪王将公式チャンネル                     1\n",
       "靴とシューズの専門店株式会社チヨダ               1\n",
       "日産自動車株式会社                       1\n",
       "東京ガス公式チャンネル                     1\n",
       "『Rise of Kingdoms―万国覚醒―』公式      1\n",
       "Angellir アンジェリール                1\n",
       "アイフル公式チャンネル                     1\n",
       "東芝 生活家電Officialチャンネル            1\n",
       "東芝CM公式チャンネル                     1\n",
       "アコム公式チャンネル                      1\n",
       "KOWA / 興和株式会社【公式】               1\n",
       "townwork                        1\n",
       "WealthNavi〈公式〉                  1\n",
       "misterdonutjp                   1\n",
       "Lenor 公式YouTubeチャンネル            1\n",
       "LotteChocomotionTV              1\n",
       "Mazda Official Web              1\n",
       "maruchanchannel                 1\n",
       "Nintendo 公式チャンネル                1\n",
       "ニトリ公式 NITORI                    1\n",
       "チャンネル住宅情報館                      1\n",
       "locondojapan                    1\n",
       "jraofficial                     1\n",
       "アサヒグループ公式チャンネル                  1\n",
       "Sansan, Inc.                    1\n",
       "TamaHome19980603                1\n",
       "jalan movie                     1\n",
       "20kenketsu                      1\n",
       "Name: id, Length: 101, dtype: int64"
      ]
     },
     "execution_count": 47,
     "metadata": {},
     "output_type": "execute_result"
    }
   ],
   "source": [
    "df.groupby('uploader')['id'].count().sort_values(ascending=False)"
   ]
  },
  {
   "cell_type": "code",
   "execution_count": null,
   "metadata": {},
   "outputs": [],
   "source": []
  },
  {
   "cell_type": "code",
   "execution_count": null,
   "metadata": {},
   "outputs": [],
   "source": []
  }
 ],
 "metadata": {
  "kernelspec": {
   "display_name": "Python 3",
   "language": "python",
   "name": "python3"
  },
  "language_info": {
   "codemirror_mode": {
    "name": "ipython",
    "version": 3
   },
   "file_extension": ".py",
   "mimetype": "text/x-python",
   "name": "python",
   "nbconvert_exporter": "python",
   "pygments_lexer": "ipython3",
   "version": "3.7.3"
  }
 },
 "nbformat": 4,
 "nbformat_minor": 4
}
